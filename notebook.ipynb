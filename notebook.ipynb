{
 "cells": [
  {
   "cell_type": "markdown",
   "metadata": {},
   "source": [
    "## Joke recoomendaiton system based on the Jester dataset "
   ]
  },
  {
   "cell_type": "code",
   "execution_count": 1,
   "metadata": {},
   "outputs": [],
   "source": [
    "# import section \n",
    "import pandas as pd,numpy as np, os\n",
    "import shelve\n",
    "import collections\n",
    "import operator"
   ]
  },
  {
   "cell_type": "code",
   "execution_count": 2,
   "metadata": {},
   "outputs": [],
   "source": [
    "all_jokes_ids = set(range(100))\n",
    "column_nanes =   ['jokes_rated']+ list(map(lambda x: x,all_jokes_ids ))\n",
    "jokeID_dataset  = { }\n",
    "similarityDict ={}\n",
    "userID_dataset ={}\n",
    "for num in range(100):\n",
    "    jokeID_dataset[num] = {}\n",
    "    jokeID_dataset[num]['users_rated'] = { }\n",
    "    jokeID_dataset[num]['mean_rating'] = None\n",
    "    jokeID_dataset[num]['std_rating'] = None"
   ]
  },
  {
   "cell_type": "code",
   "execution_count": 3,
   "metadata": {},
   "outputs": [],
   "source": [
    "#get data sets \n",
    "data_frame_master = pd.read_excel(os.getcwd()+'\\\\jester-data-1.xls', names= column_nanes )\n",
    "data_frame_2 = pd.read_excel(os.getcwd()+'\\\\jester-data-2.xls', names= column_nanes )\n",
    "data_frame_master = data_frame_master.append(data_frame_2, ignore_index=True)\n",
    "data_frame_3 = pd.read_excel(os.getcwd()+'\\\\jester-data-3.xls', names= column_nanes )\n",
    "data_frame_master =  data_frame_master.append(data_frame_3, ignore_index=True)\n",
    "data_frame_master.index.names = ['user_id']\n",
    "data_frame_master.reset_index(level=0, inplace=True)"
   ]
  },
  {
   "cell_type": "code",
   "execution_count": 4,
   "metadata": {},
   "outputs": [
    {
     "data": {
      "text/html": [
       "<div>\n",
       "<style scoped>\n",
       "    .dataframe tbody tr th:only-of-type {\n",
       "        vertical-align: middle;\n",
       "    }\n",
       "\n",
       "    .dataframe tbody tr th {\n",
       "        vertical-align: top;\n",
       "    }\n",
       "\n",
       "    .dataframe thead th {\n",
       "        text-align: right;\n",
       "    }\n",
       "</style>\n",
       "<table border=\"1\" class=\"dataframe\">\n",
       "  <thead>\n",
       "    <tr style=\"text-align: right;\">\n",
       "      <th></th>\n",
       "      <th>user_id</th>\n",
       "      <th>jokes_rated</th>\n",
       "      <th>0</th>\n",
       "      <th>1</th>\n",
       "      <th>2</th>\n",
       "      <th>3</th>\n",
       "      <th>4</th>\n",
       "      <th>5</th>\n",
       "      <th>6</th>\n",
       "      <th>7</th>\n",
       "      <th>...</th>\n",
       "      <th>90</th>\n",
       "      <th>91</th>\n",
       "      <th>92</th>\n",
       "      <th>93</th>\n",
       "      <th>94</th>\n",
       "      <th>95</th>\n",
       "      <th>96</th>\n",
       "      <th>97</th>\n",
       "      <th>98</th>\n",
       "      <th>99</th>\n",
       "    </tr>\n",
       "  </thead>\n",
       "  <tbody>\n",
       "    <tr>\n",
       "      <th>0</th>\n",
       "      <td>0</td>\n",
       "      <td>100</td>\n",
       "      <td>4.08</td>\n",
       "      <td>-0.29</td>\n",
       "      <td>6.36</td>\n",
       "      <td>4.37</td>\n",
       "      <td>-2.38</td>\n",
       "      <td>-9.66</td>\n",
       "      <td>-0.73</td>\n",
       "      <td>-5.34</td>\n",
       "      <td>...</td>\n",
       "      <td>2.82</td>\n",
       "      <td>-4.95</td>\n",
       "      <td>-0.29</td>\n",
       "      <td>7.86</td>\n",
       "      <td>-0.19</td>\n",
       "      <td>-2.14</td>\n",
       "      <td>3.06</td>\n",
       "      <td>0.34</td>\n",
       "      <td>-4.32</td>\n",
       "      <td>1.07</td>\n",
       "    </tr>\n",
       "    <tr>\n",
       "      <th>1</th>\n",
       "      <td>1</td>\n",
       "      <td>49</td>\n",
       "      <td>99.00</td>\n",
       "      <td>99.00</td>\n",
       "      <td>99.00</td>\n",
       "      <td>99.00</td>\n",
       "      <td>9.03</td>\n",
       "      <td>9.27</td>\n",
       "      <td>9.03</td>\n",
       "      <td>9.27</td>\n",
       "      <td>...</td>\n",
       "      <td>99.00</td>\n",
       "      <td>99.00</td>\n",
       "      <td>99.00</td>\n",
       "      <td>9.08</td>\n",
       "      <td>99.00</td>\n",
       "      <td>99.00</td>\n",
       "      <td>99.00</td>\n",
       "      <td>99.00</td>\n",
       "      <td>99.00</td>\n",
       "      <td>99.00</td>\n",
       "    </tr>\n",
       "    <tr>\n",
       "      <th>2</th>\n",
       "      <td>2</td>\n",
       "      <td>48</td>\n",
       "      <td>99.00</td>\n",
       "      <td>8.35</td>\n",
       "      <td>99.00</td>\n",
       "      <td>99.00</td>\n",
       "      <td>1.80</td>\n",
       "      <td>8.16</td>\n",
       "      <td>-2.82</td>\n",
       "      <td>6.21</td>\n",
       "      <td>...</td>\n",
       "      <td>99.00</td>\n",
       "      <td>99.00</td>\n",
       "      <td>99.00</td>\n",
       "      <td>0.53</td>\n",
       "      <td>99.00</td>\n",
       "      <td>99.00</td>\n",
       "      <td>99.00</td>\n",
       "      <td>99.00</td>\n",
       "      <td>99.00</td>\n",
       "      <td>99.00</td>\n",
       "    </tr>\n",
       "    <tr>\n",
       "      <th>3</th>\n",
       "      <td>3</td>\n",
       "      <td>91</td>\n",
       "      <td>8.50</td>\n",
       "      <td>4.61</td>\n",
       "      <td>-4.17</td>\n",
       "      <td>-5.39</td>\n",
       "      <td>1.36</td>\n",
       "      <td>1.60</td>\n",
       "      <td>7.04</td>\n",
       "      <td>4.61</td>\n",
       "      <td>...</td>\n",
       "      <td>5.19</td>\n",
       "      <td>5.58</td>\n",
       "      <td>4.27</td>\n",
       "      <td>5.19</td>\n",
       "      <td>5.73</td>\n",
       "      <td>1.55</td>\n",
       "      <td>3.11</td>\n",
       "      <td>6.55</td>\n",
       "      <td>1.80</td>\n",
       "      <td>1.60</td>\n",
       "    </tr>\n",
       "    <tr>\n",
       "      <th>4</th>\n",
       "      <td>4</td>\n",
       "      <td>100</td>\n",
       "      <td>-6.17</td>\n",
       "      <td>-3.54</td>\n",
       "      <td>0.44</td>\n",
       "      <td>-8.50</td>\n",
       "      <td>-7.09</td>\n",
       "      <td>-4.32</td>\n",
       "      <td>-8.69</td>\n",
       "      <td>-0.87</td>\n",
       "      <td>...</td>\n",
       "      <td>-3.54</td>\n",
       "      <td>-6.89</td>\n",
       "      <td>-0.68</td>\n",
       "      <td>-2.96</td>\n",
       "      <td>-2.18</td>\n",
       "      <td>-3.35</td>\n",
       "      <td>0.05</td>\n",
       "      <td>-9.08</td>\n",
       "      <td>-5.05</td>\n",
       "      <td>-3.45</td>\n",
       "    </tr>\n",
       "  </tbody>\n",
       "</table>\n",
       "<p>5 rows × 102 columns</p>\n",
       "</div>"
      ],
      "text/plain": [
       "   user_id  jokes_rated      0      1      2      3     4     5     6     7  \\\n",
       "0        0          100   4.08  -0.29   6.36   4.37 -2.38 -9.66 -0.73 -5.34   \n",
       "1        1           49  99.00  99.00  99.00  99.00  9.03  9.27  9.03  9.27   \n",
       "2        2           48  99.00   8.35  99.00  99.00  1.80  8.16 -2.82  6.21   \n",
       "3        3           91   8.50   4.61  -4.17  -5.39  1.36  1.60  7.04  4.61   \n",
       "4        4          100  -6.17  -3.54   0.44  -8.50 -7.09 -4.32 -8.69 -0.87   \n",
       "\n",
       "   ...       90     91     92    93     94     95     96     97     98     99  \n",
       "0  ...     2.82  -4.95  -0.29  7.86  -0.19  -2.14   3.06   0.34  -4.32   1.07  \n",
       "1  ...    99.00  99.00  99.00  9.08  99.00  99.00  99.00  99.00  99.00  99.00  \n",
       "2  ...    99.00  99.00  99.00  0.53  99.00  99.00  99.00  99.00  99.00  99.00  \n",
       "3  ...     5.19   5.58   4.27  5.19   5.73   1.55   3.11   6.55   1.80   1.60  \n",
       "4  ...    -3.54  -6.89  -0.68 -2.96  -2.18  -3.35   0.05  -9.08  -5.05  -3.45  \n",
       "\n",
       "[5 rows x 102 columns]"
      ]
     },
     "execution_count": 4,
     "metadata": {},
     "output_type": "execute_result"
    }
   ],
   "source": [
    "data_frame_master.head()"
   ]
  },
  {
   "cell_type": "code",
   "execution_count": 4,
   "metadata": {},
   "outputs": [
    {
     "data": {
      "text/plain": [
       "(73418, 102)"
      ]
     },
     "execution_count": 4,
     "metadata": {},
     "output_type": "execute_result"
    }
   ],
   "source": [
    "data_frame_master.shape"
   ]
  },
  {
   "cell_type": "code",
   "execution_count": 5,
   "metadata": {},
   "outputs": [],
   "source": [
    "# sampel data set \n",
    "data_frame_sample =  data_frame_master.head(10000)"
   ]
  },
  {
   "cell_type": "markdown",
   "metadata": {},
   "source": [
    "## select full data set if you want to"
   ]
  },
  {
   "cell_type": "code",
   "execution_count": null,
   "metadata": {},
   "outputs": [],
   "source": [
    "# sampel data set \n",
    "data_frame_sample =  data_frame_master"
   ]
  },
  {
   "cell_type": "code",
   "execution_count": 6,
   "metadata": {},
   "outputs": [
    {
     "data": {
      "text/html": [
       "<div>\n",
       "<style scoped>\n",
       "    .dataframe tbody tr th:only-of-type {\n",
       "        vertical-align: middle;\n",
       "    }\n",
       "\n",
       "    .dataframe tbody tr th {\n",
       "        vertical-align: top;\n",
       "    }\n",
       "\n",
       "    .dataframe thead th {\n",
       "        text-align: right;\n",
       "    }\n",
       "</style>\n",
       "<table border=\"1\" class=\"dataframe\">\n",
       "  <thead>\n",
       "    <tr style=\"text-align: right;\">\n",
       "      <th></th>\n",
       "      <th>user_id</th>\n",
       "      <th>jokes_rated</th>\n",
       "      <th>0</th>\n",
       "      <th>1</th>\n",
       "      <th>2</th>\n",
       "      <th>3</th>\n",
       "      <th>4</th>\n",
       "      <th>5</th>\n",
       "      <th>6</th>\n",
       "      <th>7</th>\n",
       "      <th>...</th>\n",
       "      <th>90</th>\n",
       "      <th>91</th>\n",
       "      <th>92</th>\n",
       "      <th>93</th>\n",
       "      <th>94</th>\n",
       "      <th>95</th>\n",
       "      <th>96</th>\n",
       "      <th>97</th>\n",
       "      <th>98</th>\n",
       "      <th>99</th>\n",
       "    </tr>\n",
       "  </thead>\n",
       "  <tbody>\n",
       "    <tr>\n",
       "      <th>0</th>\n",
       "      <td>0</td>\n",
       "      <td>100</td>\n",
       "      <td>4.08</td>\n",
       "      <td>-0.29</td>\n",
       "      <td>6.36</td>\n",
       "      <td>4.37</td>\n",
       "      <td>-2.38</td>\n",
       "      <td>-9.66</td>\n",
       "      <td>-0.73</td>\n",
       "      <td>-5.34</td>\n",
       "      <td>...</td>\n",
       "      <td>2.82</td>\n",
       "      <td>-4.95</td>\n",
       "      <td>-0.29</td>\n",
       "      <td>7.86</td>\n",
       "      <td>-0.19</td>\n",
       "      <td>-2.14</td>\n",
       "      <td>3.06</td>\n",
       "      <td>0.34</td>\n",
       "      <td>-4.32</td>\n",
       "      <td>1.07</td>\n",
       "    </tr>\n",
       "    <tr>\n",
       "      <th>1</th>\n",
       "      <td>1</td>\n",
       "      <td>49</td>\n",
       "      <td>99.00</td>\n",
       "      <td>99.00</td>\n",
       "      <td>99.00</td>\n",
       "      <td>99.00</td>\n",
       "      <td>9.03</td>\n",
       "      <td>9.27</td>\n",
       "      <td>9.03</td>\n",
       "      <td>9.27</td>\n",
       "      <td>...</td>\n",
       "      <td>99.00</td>\n",
       "      <td>99.00</td>\n",
       "      <td>99.00</td>\n",
       "      <td>9.08</td>\n",
       "      <td>99.00</td>\n",
       "      <td>99.00</td>\n",
       "      <td>99.00</td>\n",
       "      <td>99.00</td>\n",
       "      <td>99.00</td>\n",
       "      <td>99.00</td>\n",
       "    </tr>\n",
       "    <tr>\n",
       "      <th>2</th>\n",
       "      <td>2</td>\n",
       "      <td>48</td>\n",
       "      <td>99.00</td>\n",
       "      <td>8.35</td>\n",
       "      <td>99.00</td>\n",
       "      <td>99.00</td>\n",
       "      <td>1.80</td>\n",
       "      <td>8.16</td>\n",
       "      <td>-2.82</td>\n",
       "      <td>6.21</td>\n",
       "      <td>...</td>\n",
       "      <td>99.00</td>\n",
       "      <td>99.00</td>\n",
       "      <td>99.00</td>\n",
       "      <td>0.53</td>\n",
       "      <td>99.00</td>\n",
       "      <td>99.00</td>\n",
       "      <td>99.00</td>\n",
       "      <td>99.00</td>\n",
       "      <td>99.00</td>\n",
       "      <td>99.00</td>\n",
       "    </tr>\n",
       "    <tr>\n",
       "      <th>3</th>\n",
       "      <td>3</td>\n",
       "      <td>91</td>\n",
       "      <td>8.50</td>\n",
       "      <td>4.61</td>\n",
       "      <td>-4.17</td>\n",
       "      <td>-5.39</td>\n",
       "      <td>1.36</td>\n",
       "      <td>1.60</td>\n",
       "      <td>7.04</td>\n",
       "      <td>4.61</td>\n",
       "      <td>...</td>\n",
       "      <td>5.19</td>\n",
       "      <td>5.58</td>\n",
       "      <td>4.27</td>\n",
       "      <td>5.19</td>\n",
       "      <td>5.73</td>\n",
       "      <td>1.55</td>\n",
       "      <td>3.11</td>\n",
       "      <td>6.55</td>\n",
       "      <td>1.80</td>\n",
       "      <td>1.60</td>\n",
       "    </tr>\n",
       "    <tr>\n",
       "      <th>4</th>\n",
       "      <td>4</td>\n",
       "      <td>100</td>\n",
       "      <td>-6.17</td>\n",
       "      <td>-3.54</td>\n",
       "      <td>0.44</td>\n",
       "      <td>-8.50</td>\n",
       "      <td>-7.09</td>\n",
       "      <td>-4.32</td>\n",
       "      <td>-8.69</td>\n",
       "      <td>-0.87</td>\n",
       "      <td>...</td>\n",
       "      <td>-3.54</td>\n",
       "      <td>-6.89</td>\n",
       "      <td>-0.68</td>\n",
       "      <td>-2.96</td>\n",
       "      <td>-2.18</td>\n",
       "      <td>-3.35</td>\n",
       "      <td>0.05</td>\n",
       "      <td>-9.08</td>\n",
       "      <td>-5.05</td>\n",
       "      <td>-3.45</td>\n",
       "    </tr>\n",
       "  </tbody>\n",
       "</table>\n",
       "<p>5 rows × 102 columns</p>\n",
       "</div>"
      ],
      "text/plain": [
       "   user_id  jokes_rated      0      1      2      3     4     5     6     7  \\\n",
       "0        0          100   4.08  -0.29   6.36   4.37 -2.38 -9.66 -0.73 -5.34   \n",
       "1        1           49  99.00  99.00  99.00  99.00  9.03  9.27  9.03  9.27   \n",
       "2        2           48  99.00   8.35  99.00  99.00  1.80  8.16 -2.82  6.21   \n",
       "3        3           91   8.50   4.61  -4.17  -5.39  1.36  1.60  7.04  4.61   \n",
       "4        4          100  -6.17  -3.54   0.44  -8.50 -7.09 -4.32 -8.69 -0.87   \n",
       "\n",
       "   ...       90     91     92    93     94     95     96     97     98     99  \n",
       "0  ...     2.82  -4.95  -0.29  7.86  -0.19  -2.14   3.06   0.34  -4.32   1.07  \n",
       "1  ...    99.00  99.00  99.00  9.08  99.00  99.00  99.00  99.00  99.00  99.00  \n",
       "2  ...    99.00  99.00  99.00  0.53  99.00  99.00  99.00  99.00  99.00  99.00  \n",
       "3  ...     5.19   5.58   4.27  5.19   5.73   1.55   3.11   6.55   1.80   1.60  \n",
       "4  ...    -3.54  -6.89  -0.68 -2.96  -2.18  -3.35   0.05  -9.08  -5.05  -3.45  \n",
       "\n",
       "[5 rows x 102 columns]"
      ]
     },
     "execution_count": 6,
     "metadata": {},
     "output_type": "execute_result"
    }
   ],
   "source": [
    "data_frame_sample.head()"
   ]
  },
  {
   "cell_type": "markdown",
   "metadata": {},
   "source": [
    "## Data wrangling"
   ]
  },
  {
   "cell_type": "code",
   "execution_count": 7,
   "metadata": {},
   "outputs": [],
   "source": [
    "for index, row in data_frame_sample.iterrows():\n",
    "    user_id = int(row.user_id)\n",
    "    number_jokes_rated =  row.jokes_rated\n",
    "    ratings = row[2:]\n",
    "    ##########################\n",
    "    userID_dataset[user_id] = {}\n",
    "    userID_dataset[user_id]['jokes_rated'] ={}\n",
    "    userID_dataset[user_id]['jokes_not_rated'] ={}\n",
    "    userID_dataset[user_id]['mean_rating'] = None\n",
    "    userID_dataset[user_id]['std_rating'] = None # standard deviation\n",
    "    userID_dataset[user_id]['number_jokes_rated'] = number_jokes_rated\n",
    "    ##########################\n",
    "    jokes_ratings_by_user = row[2:].to_dict()\n",
    "    jokes_rated_by_user = {k:v for (k,v) in jokes_ratings_by_user .items() if v < 99} # can yse this to get keys () which is the moves rated by a user\n",
    "    jokes_not_rated_by_user = list(all_jokes_ids - jokes_rated_by_user.keys()) \n",
    "    list_of_ratings = list(jokes_rated_by_user.values())\n",
    "    mean_rating_given_by_user = np.mean(list_of_ratings)\n",
    "    std_rating_given_by_user =  np.std(list_of_ratings)\n",
    "    for key in jokes_rated_by_user.keys():\n",
    "        jokeID_dataset[key]['users_rated'][user_id] = jokes_rated_by_user[key]\n",
    "    #########################    \n",
    "    userID_dataset[user_id]['jokes_rated'] = jokes_rated_by_user\n",
    "    userID_dataset[user_id]['jokes_not_rated'] = jokes_not_rated_by_user\n",
    "    userID_dataset[user_id]['mean_rating'] = mean_rating_given_by_user\n",
    "    userID_dataset[user_id]['std_rating'] = std_rating_given_by_user\n",
    "    userID_dataset[user_id]['number_jokes_rated'] = number_jokes_rated"
   ]
  },
  {
   "attachments": {
    "image.png": {
     "image/png": "[encoded data removed]"
    }
   },
   "cell_type": "markdown",
   "metadata": {},
   "source": [
    "![image.png](attachment:image.png)"
   ]
  },
  {
   "cell_type": "code",
   "execution_count": 8,
   "metadata": {},
   "outputs": [],
   "source": [
    "#run this after all the rows are read # can optiona. but on large ste of jokes can useful\n",
    "for joke_id in jokeID_dataset.keys():\n",
    "    jokeID_dataset[joke_id]['mean_rating'] = np.mean(list(jokeID_dataset[0]['users_rated'].values()))\n",
    "    jokeID_dataset[joke_id]['std_rating'] = np.std(list(jokeID_dataset[0]['users_rated'].values()))"
   ]
  },
  {
   "attachments": {
    "image.png": {
     "image/png": "[encoded data removed]"
    }
   },
   "cell_type": "markdown",
   "metadata": {},
   "source": [
    "![image.png](attachment:image.png)"
   ]
  },
  {
   "cell_type": "code",
   "execution_count": null,
   "metadata": {},
   "outputs": [],
   "source": [
    "# dump to disk "
   ]
  },
  {
   "cell_type": "markdown",
   "metadata": {},
   "source": [
    "## Shelve is a package that will let us save the processed data to disk and let us load it back when needed. I used Shelve here, to save time by preventing repeated processing of data."
   ]
  },
  {
   "cell_type": "code",
   "execution_count": 3,
   "metadata": {},
   "outputs": [],
   "source": [
    "disk = shelve.open('dump_to_disk')"
   ]
  },
  {
   "cell_type": "markdown",
   "metadata": {},
   "source": [
    "### run this only when you want to load the data from disk"
   ]
  },
  {
   "cell_type": "code",
   "execution_count": 4,
   "metadata": {},
   "outputs": [],
   "source": [
    "\n",
    "jokeID_dataset = disk['jokeID_dataset'] \n",
    "userID_dataset = disk['userID_dataset']\n",
    "similarityDict = disk['similarityDict']"
   ]
  },
  {
   "cell_type": "markdown",
   "metadata": {},
   "source": [
    "### do not run this, unless you want to over write the exisiting data. "
   ]
  },
  {
   "cell_type": "code",
   "execution_count": 10,
   "metadata": {},
   "outputs": [],
   "source": [
    "# do not run this, unless you want to over write the exisiting data. \n",
    "disk['jokeID_dataset'] = jokeID_dataset\n",
    "disk['userID_dataset'] = userID_dataset\n",
    "disk['similarityDict'] = similarityDict "
   ]
  },
  {
   "cell_type": "code",
   "execution_count": 11,
   "metadata": {},
   "outputs": [],
   "source": [
    "disk.close() "
   ]
  },
  {
   "cell_type": "markdown",
   "metadata": {},
   "source": [
    "## The function below gets the record of a particular user from userID_dataset"
   ]
  },
  {
   "cell_type": "code",
   "execution_count": 5,
   "metadata": {},
   "outputs": [],
   "source": [
    "def getRecordUser(userId):\n",
    "    return userID_dataset[userId]"
   ]
  },
  {
   "cell_type": "markdown",
   "metadata": {},
   "source": [
    "## The function below gets the user_ID of users who gave same rating as  our user we recommending the film did as  dont want info about all users, just those who rated the joke similar to similar to target user. "
   ]
  },
  {
   "cell_type": "markdown",
   "metadata": {},
   "source": [
    "## Here ‘ deviationInterval’   is much similar to standard deviation, I am not using standard deviation as  1 standard deviation will cover a very huge number of data points when dealing with large data sets. I use an arbitrary value 0.25, any value can be used.  The ‘ deviationInterval’    will increase its range if no values fall within the specified range. "
   ]
  },
  {
   "cell_type": "code",
   "execution_count": 6,
   "metadata": {},
   "outputs": [],
   "source": [
    "\n",
    "def usersWhoGaveSameRating(joke_id,diviationInterval,jokeWithMaximumRatingByUser,ratingOfTheJokeRatedMax):\n",
    "    jokeRecord =jokeID_dataset[jokeWithMaximumRatingByUser]\n",
    "    usersWhoRatedJoke = jokeRecord['users_rated']\n",
    "    listOfUsers = []\n",
    "    while len(listOfUsers) < 1:\n",
    "        usersWhoRatedJoke = {k:v for (k,v) in usersWhoRatedJoke .items() if v < ratingOfTheJokeRatedMax + diviationInterval }\n",
    "        usersWhoRatedJoke = {k:v for (k,v) in usersWhoRatedJoke .items() if v > ratingOfTheJokeRatedMax - diviationInterval }\n",
    "        diviationInterval += 0.25\n",
    "        listOfUsers = list(usersWhoRatedJoke.keys())\n",
    "        usersWhoRatedJoke = jokeRecord['users_rated'] # reseting \n",
    "    return listOfUsers"
   ]
  },
  {
   "cell_type": "markdown",
   "metadata": {},
   "source": [
    "### This a function that gives cosine similarity by taking dictionary as inputs.  "
   ]
  },
  {
   "cell_type": "code",
   "execution_count": 7,
   "metadata": {},
   "outputs": [],
   "source": [
    "# refered from \n",
    "#https://stackoverflow.com/questions/28140530/type-error-when-comparing-two-dictionaries-using-cosine-similarity-in-python\n",
    "\n",
    "def calculateCosineSimilarity(v1, v2):\n",
    "    up = 0\n",
    "    for key in set(v1).intersection(v2):\n",
    "        v1_value = v1[key]\n",
    "        v2_value = v2[key]\n",
    "        up += v1_value * v2_value\n",
    "    if up == 0:\n",
    "        return 0\n",
    "    return up / (np.sqrt(np.dot(list(v1.values()), list(v1.values()))) * np.sqrt(np.dot(list(v2.values()), list(v2.values()))))"
   ]
  },
  {
   "cell_type": "markdown",
   "metadata": {},
   "source": [
    "### This a function lets us save the cosine similarity value between two users in ‘similarityDict’. This will help us prevent calculating cosine similarly repeatedly.  "
   ]
  },
  {
   "cell_type": "code",
   "execution_count": 8,
   "metadata": {},
   "outputs": [],
   "source": [
    "\n",
    "def getCosineSimilarity(userId,usersWhoRatedJoke,jokesRatedByUser):\n",
    "    cosineDict = {}\n",
    "    cosineDict[userId] = {}\n",
    "    for targetId in usersWhoRatedJoke:\n",
    "        targetRecord = getRecordUser(targetId)\n",
    "        jokesRatedByTarget = targetRecord['jokes_rated']\n",
    "        try:\n",
    "            cosineDict[targetId] = similarityDict[userId][targetId]\n",
    "        except KeyError:\n",
    "            similarity = calculateCosineSimilarity(jokesRatedByTarget,jokesRatedByUser) \n",
    "            cosineDict[targetId] = similarity\n",
    "            try:\n",
    "                similarityDict[userId][targetId] = similarity\n",
    "            except KeyError:\n",
    "                similarityDict[userId] = {}\n",
    "                similarityDict[userId][targetId] = similarity\n",
    "            try:    \n",
    "                similarityDict[targetId][userId] = similarity\n",
    "            except KeyError:\n",
    "                similarityDict[targetId] = {}\n",
    "                similarityDict[targetId][userId] = similarity\n",
    "    del cosineDict[userId]        \n",
    "    return cosineDict\n",
    "    "
   ]
  },
  {
   "attachments": {
    "image.png": {
     "image/png": "[encoded data removed]"
    }
   },
   "cell_type": "markdown",
   "metadata": {},
   "source": [
    "![image.png](attachment:image.png)"
   ]
  },
  {
   "cell_type": "code",
   "execution_count": 9,
   "metadata": {},
   "outputs": [],
   "source": [
    "def getRecommendationForUser(userId, diviationInterval):\n",
    "    userRecord = getRecordUser(userId)\n",
    "    jokesRatedByUser = userRecord['jokes_rated']\n",
    "    jokeWithMaximumRatingByUser = max(jokesRatedByUser, key=jokesRatedByUser.get)\n",
    "    ratingOfTheJokeRatedMax = userRecord['jokes_rated'][jokeWithMaximumRatingByUser]\n",
    "    jokeRecord =jokeID_dataset[jokeWithMaximumRatingByUser ]\n",
    "    usersWhoRatedJoke = usersWhoGaveSameRating(jokeWithMaximumRatingByUser, diviationInterval,jokeWithMaximumRatingByUser,ratingOfTheJokeRatedMax )\n",
    "    cosineSimilarityBetweenUsers = getCosineSimilarity(userId,usersWhoRatedJoke,jokesRatedByUser)\n",
    "    cosineSimilarityBetweenUsers = sorted(cosineSimilarityBetweenUsers.items(), key = lambda x: x[1], reverse= True)\n",
    "    iterateUserId = 0\n",
    "    try:\n",
    "        while(True):\n",
    "            targetUserId=cosineSimilarityBetweenUsers[iterateUserId][0] \n",
    "            jokesRatedByTarget= userID_dataset[targetUserId]['jokes_rated']\n",
    "            jokesRatedByTarget = {k:v for (k,v) in jokesRatedByTarget .items() if v >= userID_dataset[targetUserId]['mean_rating']}\n",
    "            jokesNotRatedByUser = userID_dataset[userId]['jokes_not_rated']\n",
    "            jokesOfIntrest =  set(jokesRatedByTarget) -  set(jokesNotRatedByUser)\n",
    "            jokesOfNotIntrest = set(jokesRatedByTarget) -  jokesOfIntrest\n",
    "            for key in jokesOfNotIntrest:\n",
    "                try:\n",
    "                    del jokesRatedByTarget[key]\n",
    "                except KeyError:\n",
    "                    pass\n",
    "            try:\n",
    "                recommendedJoke = max(jokesRatedByTarget.items(), key=operator.itemgetter(1))[0]\n",
    "                return recommendedJoke\n",
    "            except ValueError:\n",
    "                iterateUserId += 1\n",
    "    except IndexError:\n",
    "        diviationInterval += 0.1\n",
    "        getRecommendationForUser(userID, diviationInterval)"
   ]
  },
  {
   "cell_type": "markdown",
   "metadata": {},
   "source": [
    "### There are only 100 jokes available in this dataset, if a user has read all the jokes we will tell that the user has read all the jokes and nothing to recommend "
   ]
  },
  {
   "cell_type": "code",
   "execution_count": 12,
   "metadata": {},
   "outputs": [],
   "source": [
    "def main():\n",
    "    while True:\n",
    "        print('enter userId you want Recommendation for')\n",
    "        userId = int(input())\n",
    "        print('enter diviationInterval; should be around 0.25')\n",
    "        diviationInterval = float(input())\n",
    "        if userID_dataset[userId]['number_jokes_rated'] == 100:\n",
    "            print('User has seen all the available jokes')\n",
    "        else:\n",
    "            jokeID = getRecommendationForUser(userId, diviationInterval)\n",
    "            print('Joke recommended for userId', userId, ' is ', jokeID,'\\n\\n')\n",
    "        \n",
    "            print('press 1 to exit, 2 to continue')\n",
    "            userInput = int(input())\n",
    "            if userInput == 1:\n",
    "                break\n",
    "            else:\n",
    "                continue\n",
    "        "
   ]
  },
  {
   "cell_type": "code",
   "execution_count": 13,
   "metadata": {},
   "outputs": [
    {
     "name": "stdout",
     "output_type": "stream",
     "text": [
      "enter userId you want Recommendation for\n",
      "1\n",
      "enter diviationInterval; should be around 0.25\n",
      "0.25\n",
      "Joke recommended for userId 1  is  27 \n",
      "\n",
      "\n",
      "press 1 to exit, 2 to continue\n",
      "2\n",
      "enter userId you want Recommendation for\n",
      "0\n",
      "enter diviationInterval; should be around 0.25\n",
      "0.25\n",
      "User has seen all the available jokes\n",
      "enter userId you want Recommendation for\n",
      "6\n",
      "enter diviationInterval; should be around 0.25\n",
      "0.25\n",
      "User has seen all the available jokes\n",
      "enter userId you want Recommendation for\n",
      "8\n",
      "enter diviationInterval; should be around 0.25\n",
      "0.25\n",
      "Joke recommended for userId 8  is  27 \n",
      "\n",
      "\n",
      "press 1 to exit, 2 to continue\n",
      "1\n"
     ]
    }
   ],
   "source": [
    "if __name__ == '__main__':\n",
    "    main()"
   ]
  },
  {
   "cell_type": "code",
   "execution_count": null,
   "metadata": {},
   "outputs": [],
   "source": []
  }
 ],
 "metadata": {
  "kernelspec": {
   "display_name": "Python 3",
   "language": "python",
   "name": "python3"
  },
  "language_info": {
   "codemirror_mode": {
    "name": "ipython",
    "version": 3
   },
   "file_extension": ".py",
   "mimetype": "text/x-python",
   "name": "python",
   "nbconvert_exporter": "python",
   "pygments_lexer": "ipython3",
   "version": "3.6.5"
  }
 },
 "nbformat": 4,
 "nbformat_minor": 2
}
